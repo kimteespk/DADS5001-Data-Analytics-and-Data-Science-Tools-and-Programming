{
  "cells": [
    {
      "cell_type": "markdown",
      "metadata": {
        "colab_type": "text",
        "id": "view-in-github"
      },
      "source": [
        "<a href=\"https://colab.research.google.com/github/ekaratnida/DADS5001-Data-Analytics-and-Data-Science-Tools-and-Programming/blob/main/01_Data_Sources/week1.ipynb\" target=\"_parent\"><img src=\"https://colab.research.google.com/assets/colab-badge.svg\" alt=\"Open In Colab\"/></a>"
      ]
    },
    {
      "cell_type": "markdown",
      "metadata": {
        "id": "sD8ky2n3mkQQ"
      },
      "source": [
        "# 1. Youtube"
      ]
    },
    {
      "cell_type": "code",
      "execution_count": null,
      "metadata": {
        "id": "Pgo6b68WmFIJ"
      },
      "outputs": [],
      "source": [
        "#!pip install pytchat #https://github.com/taizan-hokuto/pytchat/wiki"
      ]
    },
    {
      "cell_type": "code",
      "execution_count": 1,
      "metadata": {},
      "outputs": [],
      "source": [
        "import pytchat"
      ]
    },
    {
      "cell_type": "code",
      "execution_count": null,
      "metadata": {
        "id": "pgCSzTNYkmqi"
      },
      "outputs": [],
      "source": [
        "import pytchat\n",
        "chat = pytchat.create(video_id=\"VDQFqn0evfM\")\n",
        "\n",
        "while chat.is_alive():\n",
        "  for c in chat.get().sync_items():\n",
        "    print(dir(c))\n",
        "    print(f\"{c.datetime} [{c.author.name}]- {c.message}\")"
      ]
    },
    {
      "cell_type": "code",
      "execution_count": null,
      "metadata": {
        "colab": {
          "base_uri": "https://localhost:8080/",
          "height": 190
        },
        "id": "vsr1OM129uRq",
        "outputId": "43df988b-0935-49fa-8b02-3978e1e29731"
      },
      "outputs": [],
      "source": [
        "import pytchat\n",
        "import pandas as pd \n",
        "chat = pytchat.create(video_id=\"VDQFqn0evfM\")\n",
        "\n",
        "dList = []\n",
        "aList = []\n",
        "mList = []\n",
        "\n",
        "i = 0\n",
        "while chat.is_alive():\n",
        "  for c in chat.get().sync_items():\n",
        "    print(f\"{c.datetime} [{c.author.name}]- {c.message}\")\n",
        "    dList.append(c.datetime)\n",
        "    aList.append(c.author.name)\n",
        "    mList.append(c.message)\n",
        "    i = i+1\n",
        "    if i == 10:\n",
        "      chat.terminate()\n",
        "      break\n",
        "\n",
        "# dictionary of lists \n",
        "dict = {'dateTime': dList, 'authorName': aList, 'Message': mList}\n",
        "\n",
        "df = pd.DataFrame(dict)\n",
        "df.head()\n",
        "\n",
        "from google.colab import files\n",
        "df.to_csv(\"data.csv\", encoding=\"utf_8_sig\", index=False) #cp874, #TIS-620\n",
        "files.download(\"data.csv\")"
      ]
    },
    {
      "cell_type": "markdown",
      "metadata": {
        "id": "-Is6zOw5n0n_"
      },
      "source": [
        "# 2. Twitter\n",
        "#### Reference https://developer.twitter.com/en/docs/twitter-api/v1/tweets/timelines/api-reference/get-statuses-user_timeline"
      ]
    },
    {
      "cell_type": "code",
      "execution_count": null,
      "metadata": {
        "colab": {
          "base_uri": "https://localhost:8080/"
        },
        "id": "n0a9S2EXos5J",
        "outputId": "239605d8-586b-4c6e-a055-a6abd56da1a4"
      },
      "outputs": [],
      "source": [
        "!pip install tweepy #https://www.tweepy.org/"
      ]
    },
    {
      "cell_type": "markdown",
      "metadata": {
        "id": "yHyQTyfiFjML"
      },
      "source": [
        "### Setup key and secret\n"
      ]
    },
    {
      "cell_type": "code",
      "execution_count": null,
      "metadata": {
        "id": "u9zghkeYEZ2D"
      },
      "outputs": [],
      "source": [
        "from getpass import getpass\n",
        "consumer_key = getpass('Enter the consumer_key: ')\n",
        "consumer_secret = getpass('Enter the consumer_secret: ')\n",
        "access_token = getpass('Enter the access_token: ')\n",
        "access_token_secret = getpass('Enter the access_token_secret: ')"
      ]
    },
    {
      "cell_type": "markdown",
      "metadata": {
        "id": "vFj8KMfRFT4C"
      },
      "source": [
        "### Streaming"
      ]
    },
    {
      "cell_type": "code",
      "execution_count": null,
      "metadata": {
        "id": "1YA_65_hFDbz"
      },
      "outputs": [],
      "source": [
        "import tweepy\n",
        "\n",
        "auth = tweepy.OAuthHandler(consumer_key, consumer_secret)\n",
        "auth.set_access_token(access_token, access_token_secret)\n",
        "\n",
        "api = tweepy.API(auth)"
      ]
    },
    {
      "cell_type": "markdown",
      "metadata": {
        "id": "cRvXO7DfFXtK"
      },
      "source": [
        "### Example 1: User home timeline"
      ]
    },
    {
      "cell_type": "code",
      "execution_count": null,
      "metadata": {
        "id": "a_Rq4gkpqCu4"
      },
      "outputs": [],
      "source": [
        "public_tweets = api.home_timeline()\n",
        "for tweet in public_tweets:\n",
        "    print(tweet.text)\n",
        "    print(\"----------------------------------\")"
      ]
    },
    {
      "cell_type": "markdown",
      "metadata": {
        "id": "qEpJQsk6FoTE"
      },
      "source": [
        "### Example 2: monitor user ID"
      ]
    },
    {
      "cell_type": "code",
      "execution_count": null,
      "metadata": {
        "id": "AxBMi_5GsGGI"
      },
      "outputs": [],
      "source": [
        "import pandas as pd\n",
        "dList = []\n",
        "aList = []\n",
        "mList = []\n",
        "userID = \"elonmusk\"\n",
        "user = api.get_user(userID)\n",
        "\n",
        "tweets = api.user_timeline(screen_name=userID, \n",
        "                           # 10 is the maximum allowed count\n",
        "                           count=10,\n",
        "                           include_rts = False,\n",
        "                           # Necessary to keep full_text \n",
        "                           # otherwise only the first 140 words are extracted\n",
        "                           tweet_mode = 'extended'\n",
        "                           )\n",
        "\n",
        "for info in tweets[:5]:\n",
        "    #print(info)\n",
        "    #print(\"ID: {}\".format(info.id))\n",
        "    print(info.created_at)\n",
        "    print(info.full_text)\n",
        "    print(\"\\n\")\n",
        "    dList.append(info.id)\n",
        "    aList.append(info.created_at)\n",
        "    mList.append(info.full_text.encode().decode('unicode_escape'))\n",
        "\n",
        "dict = {'id': dList, 'time': aList, 'text': mList}\n",
        "\n",
        "df = pd.DataFrame(dict)\n",
        "df.head()\n",
        "\n",
        "from google.colab import files\n",
        "df.to_csv(\"data.csv\", encoding=\"ISO-8859-1\", index=False)\n",
        "files.download(\"data.csv\")\n"
      ]
    },
    {
      "cell_type": "markdown",
      "metadata": {
        "id": "TKHf6gy-PYnb"
      },
      "source": [
        "### Web scraping"
      ]
    },
    {
      "cell_type": "code",
      "execution_count": null,
      "metadata": {
        "id": "TfnV1SYjPbEL"
      },
      "outputs": [],
      "source": [
        "import requests #connect url\n",
        "from bs4 import BeautifulSoup #https://www.crummy.com/software/BeautifulSoup/bs4/doc/\n",
        "\n",
        "url = requests.get('https://www.blognone.com/node/109731')\n",
        "#print(\"url = \",url)\n",
        "\n",
        "soup = BeautifulSoup(url.content, 'html.parser')\n",
        "#print(\"soup = \",soup)\n",
        "\n",
        "#data = soup.find(itemprop='name')\n",
        "#print(data)\n",
        "\n",
        "####\n",
        "data = ''\n",
        "idx = 1\n",
        "for i in soup.find_all(\"div\", {\"class\": \"field-item even\"}):\n",
        "  output = i.find(\"p\")\n",
        "  #print(type(output))\n",
        "  if output != None:\n",
        "    print(idx, \" = \", output.text)\n",
        "    idx = idx + 1"
      ]
    }
  ],
  "metadata": {
    "colab": {
      "include_colab_link": true,
      "name": "week1.ipynb",
      "provenance": []
    },
    "kernelspec": {
      "display_name": "Python 3.8.10 ('base')",
      "language": "python",
      "name": "python3"
    },
    "language_info": {
      "codemirror_mode": {
        "name": "ipython",
        "version": 3
      },
      "file_extension": ".py",
      "mimetype": "text/x-python",
      "name": "python",
      "nbconvert_exporter": "python",
      "pygments_lexer": "ipython3",
      "version": "3.8.10"
    },
    "vscode": {
      "interpreter": {
        "hash": "e4cce46d6be9934fbd27f9ca0432556941ea5bdf741d4f4d64c6cd7f8dfa8fba"
      }
    }
  },
  "nbformat": 4,
  "nbformat_minor": 0
}
